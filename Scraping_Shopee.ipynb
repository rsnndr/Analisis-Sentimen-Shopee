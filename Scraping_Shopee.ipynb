{
  "nbformat": 4,
  "nbformat_minor": 0,
  "metadata": {
    "colab": {
      "provenance": []
    },
    "kernelspec": {
      "name": "python3",
      "display_name": "Python 3"
    },
    "language_info": {
      "name": "python"
    }
  },
  "cells": [
    {
      "cell_type": "code",
      "execution_count": 12,
      "metadata": {
        "colab": {
          "base_uri": "https://localhost:8080/"
        },
        "id": "iGogob-5pZvb",
        "outputId": "e846172a-badd-40d8-91d8-f11c6d83efa9"
      },
      "outputs": [
        {
          "output_type": "stream",
          "name": "stdout",
          "text": [
            "Requirement already satisfied: google-play-scraper in /usr/local/lib/python3.11/dist-packages (1.2.7)\n"
          ]
        }
      ],
      "source": [
        "# Install dulu (hanya sekali, di awal)\n",
        "!pip install google-play-scraper\n",
        "\n",
        "# Import\n",
        "from google_play_scraper import reviews_all, Sort, reviews\n",
        "import pandas as pd"
      ]
    },
    {
      "cell_type": "code",
      "source": [
        "app_id = 'com.shopee.id'  # PUBG MOBILE package name\n",
        "count = 10000  # Jumlah ulasan yang diambil\n",
        "review_all = []\n",
        "continuation_token = None\n",
        "\n",
        "while len(review_all) < count:\n",
        "    result, continuation_token = reviews(\n",
        "        app_id,\n",
        "        lang='id',\n",
        "        country='id',\n",
        "        count=500,  # Ambil per batch\n",
        "        sort=Sort.NEWEST,\n",
        "        continuation_token=continuation_token\n",
        "    )\n",
        "\n",
        "    if not result:\n",
        "        break  # Stop jika tidak ada review lagi\n",
        "\n",
        "    review_all.extend(result)\n",
        "    print(f\"Total reviews collected: {len(review_all)}\")"
      ],
      "metadata": {
        "colab": {
          "base_uri": "https://localhost:8080/"
        },
        "id": "JHcWxQj7p_-u",
        "outputId": "2b7f197b-9975-4c3b-f54b-cb8c7b39de34"
      },
      "execution_count": 13,
      "outputs": [
        {
          "output_type": "stream",
          "name": "stdout",
          "text": [
            "Total reviews collected: 500\n",
            "Total reviews collected: 1000\n",
            "Total reviews collected: 1500\n",
            "Total reviews collected: 2000\n",
            "Total reviews collected: 2500\n",
            "Total reviews collected: 3000\n",
            "Total reviews collected: 3500\n",
            "Total reviews collected: 4000\n",
            "Total reviews collected: 4500\n",
            "Total reviews collected: 5000\n",
            "Total reviews collected: 5500\n",
            "Total reviews collected: 6000\n",
            "Total reviews collected: 6500\n",
            "Total reviews collected: 7000\n",
            "Total reviews collected: 7500\n",
            "Total reviews collected: 8000\n",
            "Total reviews collected: 8500\n",
            "Total reviews collected: 9000\n",
            "Total reviews collected: 9500\n",
            "Total reviews collected: 10000\n"
          ]
        }
      ]
    },
    {
      "cell_type": "code",
      "source": [
        "df = pd.DataFrame(review_all)"
      ],
      "metadata": {
        "id": "qYadPF_6Au9C"
      },
      "execution_count": 14,
      "outputs": []
    },
    {
      "cell_type": "code",
      "source": [
        "df.shape"
      ],
      "metadata": {
        "colab": {
          "base_uri": "https://localhost:8080/"
        },
        "id": "bbx4RBHeBGvT",
        "outputId": "ab78ed28-7c6c-4dbd-ece4-f77cdbf91400"
      },
      "execution_count": 15,
      "outputs": [
        {
          "output_type": "execute_result",
          "data": {
            "text/plain": [
              "(10000, 11)"
            ]
          },
          "metadata": {},
          "execution_count": 15
        }
      ]
    },
    {
      "cell_type": "code",
      "source": [
        "# Simpan ke DataFrame\n",
        "df = pd.DataFrame(review_all)"
      ],
      "metadata": {
        "id": "U5bfRAUfqZ29"
      },
      "execution_count": 16,
      "outputs": []
    },
    {
      "cell_type": "code",
      "source": [
        "# Simpan ke CSV\n",
        "df.to_csv('ulasan_shopee.csv', index=False)"
      ],
      "metadata": {
        "id": "1xP7LM_5qegP"
      },
      "execution_count": 17,
      "outputs": []
    }
  ]
}